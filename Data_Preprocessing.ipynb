{
  "nbformat": 4,
  "nbformat_minor": 0,
  "metadata": {
    "colab": {
      "name": "Data Preprocessing.ipynb",
      "provenance": [],
      "collapsed_sections": [],
      "include_colab_link": true
    },
    "kernelspec": {
      "name": "python3",
      "display_name": "Python 3"
    }
  },
  "cells": [
    {
      "cell_type": "markdown",
      "metadata": {
        "id": "view-in-github",
        "colab_type": "text"
      },
      "source": [
        "<a href=\"https://colab.research.google.com/github/Ruqyai/AR.js/blob/master/Data_Preprocessing.ipynb\" target=\"_parent\"><img src=\"https://colab.research.google.com/assets/colab-badge.svg\" alt=\"Open In Colab\"/></a>"
      ]
    },
    {
      "cell_type": "markdown",
      "metadata": {
        "id": "KfYy2uiouVtj",
        "colab_type": "text"
      },
      "source": [
        "Data Preprocessing in Data Mining\n",
        "Preprocessing in Data Mining:\n",
        "Data preprocessing is a data mining technique which is used to transform the raw data in a useful and efficient format.\n",
        "\n",
        "\n",
        "\n",
        "\n",
        "\n",
        "Steps Involved in Data Preprocessing:\n",
        "\n",
        "1. Data Cleaning:\n",
        "The data can have many irrelevant and missing parts. To handle this part, data cleaning is done. It involves handling of missing data, noisy data etc.\n",
        "\n",
        "(a). Missing Data:\n",
        "This situation arises when some data is missing in the data. It can be handled in various ways.\n",
        "Some of them are:\n",
        "Ignore the tuples:\n",
        "This approach is suitable only when the dataset we have is quite large and multiple values are missing within a tuple.\n",
        "Fill the Missing values:\n",
        "There are various ways to do this task. You can choose to fill the missing values manually, by attribute mean or the most probable value. \n",
        "\n",
        "(b). Noisy Data:\n",
        "Noisy data is a meaningless data that can’t be interpreted by machines.It can be generated due to faulty data collection, data entry errors etc. It can be handled in following ways :\n",
        "Binning Method:\n",
        "This method works on sorted data in order to smooth it. The whole data is divided into segments of equal size and then various methods are performed to complete the task. Each segmented is handled separately. One can replace all data in a segment by its mean or boundary values can be used to complete the task.\n",
        "Regression:\n",
        "Here data can be made smooth by fitting it to a regression function.The regression used may be linear (having one independent variable) or multiple (having multiple independent variables).\n",
        "Clustering:\n",
        "This approach groups the similar data in a cluster. The outliers may be undetected or it will fall outside the clusters.\n",
        "2. Data Transformation:\n",
        "This step is taken in order to transform the data in appropriate forms suitable for mining process. This involves following ways:\n",
        "\n",
        "Normalization:\n",
        "It is done in order to scale the data values in a specified range (-1.0 to 1.0 or 0.0 to 1.0)\n",
        "Attribute Selection:\n",
        "In this strategy, new attributes are constructed from the given set of attributes to help the mining process.\n",
        "Discretization:\n",
        "This is done to replace the raw values of numeric attribute by interval levels or conceptual levels.\n",
        "Concept Hierarchy Generation:\n",
        "Here attributes are converted from level to higher level in hierarchy. For Example-The attribute “city” can be converted to “country”.\n",
        "3. Data Reduction:\n",
        "Since data mining is a technique that is used to handle huge amount of data. While working with huge volume of data, analysis became harder in such cases. In order to get rid of this, we uses data reduction technique. It aims to increase the storage efficiency and reduce data storage and analysis costs.\n",
        "\n",
        "The various steps to data reduction are:\n",
        "\n",
        "Data Cube Aggregation:\n",
        "Aggregation operation is applied to data for the construction of the data cube.\n",
        "Attribute Subset Selection:\n",
        "The highly relevant attributes should be used, rest all can be discarded. For performing attribute selection, one can use level of significance and p- value of the attribute.the attribute having p-value greater than significance level can be discarded.\n",
        " \n",
        "Numerosity Reduction:\n",
        "This enable to store the model of data instead of whole data, for example: Regression Models.\n",
        "  \n",
        "Dimensionality Reduction:\n",
        "This reduce the size of data by encoding mechanisms.It can be lossy or lossless. If after reconstruction from compressed data, original data can be retrieved, such reduction are called lossless reduction else it is called lossy reduction. The two effective methods of dimensionality reduction are:Wavelet transforms and PCA (Principal Componenet Analysis)."
      ]
    },
    {
      "cell_type": "markdown",
      "metadata": {
        "id": "BXnJmG5ixDNP",
        "colab_type": "text"
      },
      "source": [
        "![alt text](https://media.geeksforgeeks.org/wp-content/uploads/20190312184006/Data-Preprocessing.png)"
      ]
    },
    {
      "cell_type": "markdown",
      "metadata": {
        "id": "afMnbpArZ_62",
        "colab_type": "text"
      },
      "source": [
        "#Data Selection"
      ]
    },
    {
      "cell_type": "markdown",
      "metadata": {
        "id": "d-jB6IggaEMD",
        "colab_type": "text"
      },
      "source": [
        "#Data Preparation Process\n",
        "In Real world data are generally incomplete: lacking attribute values, lacking certain attributes of interest, or containing only aggregate data. Noisy: containing errors or outliers. Inconsistent: containing discrepancies in codes or names."
      ]
    },
    {
      "cell_type": "markdown",
      "metadata": {
        "id": "8Nygh8k_tjLk",
        "colab_type": "text"
      },
      "source": [
        "![alt text](https://hackernoon.com/hn-images/1*-bqV4YyZtlz9EUxi8levjw.jpeg)"
      ]
    },
    {
      "cell_type": "markdown",
      "metadata": {
        "id": "_XKV-9uBtylC",
        "colab_type": "text"
      },
      "source": [
        "Steps in Data Preprocessing \n",
        "\n",
        "Step 1 : Import the libraries\n",
        "\n",
        "Step 2 : Import the data-set\n",
        "\n",
        "Step 3 : Check out the missing values\n",
        "\n",
        "Step 4 : See the Categorical Values\n",
        "\n",
        "Step 5 : Splitting the data-set into Training and Test Set\n",
        "\n",
        "Step 6 : Feature Scaling"
      ]
    },
    {
      "cell_type": "code",
      "metadata": {
        "id": "LG_iHKiI6qfa",
        "colab_type": "code",
        "colab": {}
      },
      "source": [
        ""
      ],
      "execution_count": 0,
      "outputs": []
    }
  ]
}